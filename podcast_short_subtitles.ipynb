{
  "nbformat": 4,
  "nbformat_minor": 0,
  "metadata": {
    "colab": {
      "provenance": [],
      "gpuType": "T4",
      "include_colab_link": true
    },
    "kernelspec": {
      "name": "python3",
      "display_name": "Python 3"
    },
    "language_info": {
      "name": "python"
    },
    "accelerator": "GPU"
  },
  "cells": [
    {
      "cell_type": "markdown",
      "metadata": {
        "id": "view-in-github",
        "colab_type": "text"
      },
      "source": [
        "<a href=\"https://colab.research.google.com/github/Elijah266/videocast/blob/main/podcast_short_subtitles.ipynb\" target=\"_parent\"><img src=\"https://colab.research.google.com/assets/colab-badge.svg\" alt=\"Open In Colab\"/></a>"
      ]
    },
    {
      "cell_type": "code",
      "execution_count": null,
      "metadata": {
        "colab": {
          "base_uri": "https://localhost:8080/",
          "height": 42
        },
        "id": "UoTa6bujWia4",
        "outputId": "ec911efc-d1e3-430a-966d-f6d6d8933691"
      },
      "outputs": [
        {
          "data": {
            "text/html": [
              "\n",
              "     <input type=\"file\" id=\"files-8b29a568-2939-460e-81ba-5f6130a58e8f\" name=\"files[]\" multiple disabled\n",
              "        style=\"border:none\" />\n",
              "     <output id=\"result-8b29a568-2939-460e-81ba-5f6130a58e8f\">\n",
              "      Upload widget is only available when the cell has been executed in the\n",
              "      current browser session. Please rerun this cell to enable.\n",
              "      </output>\n",
              "      <script>// Copyright 2017 Google LLC\n",
              "//\n",
              "// Licensed under the Apache License, Version 2.0 (the \"License\");\n",
              "// you may not use this file except in compliance with the License.\n",
              "// You may obtain a copy of the License at\n",
              "//\n",
              "//      http://www.apache.org/licenses/LICENSE-2.0\n",
              "//\n",
              "// Unless required by applicable law or agreed to in writing, software\n",
              "// distributed under the License is distributed on an \"AS IS\" BASIS,\n",
              "// WITHOUT WARRANTIES OR CONDITIONS OF ANY KIND, either express or implied.\n",
              "// See the License for the specific language governing permissions and\n",
              "// limitations under the License.\n",
              "\n",
              "/**\n",
              " * @fileoverview Helpers for google.colab Python module.\n",
              " */\n",
              "(function(scope) {\n",
              "function span(text, styleAttributes = {}) {\n",
              "  const element = document.createElement('span');\n",
              "  element.textContent = text;\n",
              "  for (const key of Object.keys(styleAttributes)) {\n",
              "    element.style[key] = styleAttributes[key];\n",
              "  }\n",
              "  return element;\n",
              "}\n",
              "\n",
              "// Max number of bytes which will be uploaded at a time.\n",
              "const MAX_PAYLOAD_SIZE = 100 * 1024;\n",
              "\n",
              "function _uploadFiles(inputId, outputId) {\n",
              "  const steps = uploadFilesStep(inputId, outputId);\n",
              "  const outputElement = document.getElementById(outputId);\n",
              "  // Cache steps on the outputElement to make it available for the next call\n",
              "  // to uploadFilesContinue from Python.\n",
              "  outputElement.steps = steps;\n",
              "\n",
              "  return _uploadFilesContinue(outputId);\n",
              "}\n",
              "\n",
              "// This is roughly an async generator (not supported in the browser yet),\n",
              "// where there are multiple asynchronous steps and the Python side is going\n",
              "// to poll for completion of each step.\n",
              "// This uses a Promise to block the python side on completion of each step,\n",
              "// then passes the result of the previous step as the input to the next step.\n",
              "function _uploadFilesContinue(outputId) {\n",
              "  const outputElement = document.getElementById(outputId);\n",
              "  const steps = outputElement.steps;\n",
              "\n",
              "  const next = steps.next(outputElement.lastPromiseValue);\n",
              "  return Promise.resolve(next.value.promise).then((value) => {\n",
              "    // Cache the last promise value to make it available to the next\n",
              "    // step of the generator.\n",
              "    outputElement.lastPromiseValue = value;\n",
              "    return next.value.response;\n",
              "  });\n",
              "}\n",
              "\n",
              "/**\n",
              " * Generator function which is called between each async step of the upload\n",
              " * process.\n",
              " * @param {string} inputId Element ID of the input file picker element.\n",
              " * @param {string} outputId Element ID of the output display.\n",
              " * @return {!Iterable<!Object>} Iterable of next steps.\n",
              " */\n",
              "function* uploadFilesStep(inputId, outputId) {\n",
              "  const inputElement = document.getElementById(inputId);\n",
              "  inputElement.disabled = false;\n",
              "\n",
              "  const outputElement = document.getElementById(outputId);\n",
              "  outputElement.innerHTML = '';\n",
              "\n",
              "  const pickedPromise = new Promise((resolve) => {\n",
              "    inputElement.addEventListener('change', (e) => {\n",
              "      resolve(e.target.files);\n",
              "    });\n",
              "  });\n",
              "\n",
              "  const cancel = document.createElement('button');\n",
              "  inputElement.parentElement.appendChild(cancel);\n",
              "  cancel.textContent = 'Cancel upload';\n",
              "  const cancelPromise = new Promise((resolve) => {\n",
              "    cancel.onclick = () => {\n",
              "      resolve(null);\n",
              "    };\n",
              "  });\n",
              "\n",
              "  // Wait for the user to pick the files.\n",
              "  const files = yield {\n",
              "    promise: Promise.race([pickedPromise, cancelPromise]),\n",
              "    response: {\n",
              "      action: 'starting',\n",
              "    }\n",
              "  };\n",
              "\n",
              "  cancel.remove();\n",
              "\n",
              "  // Disable the input element since further picks are not allowed.\n",
              "  inputElement.disabled = true;\n",
              "\n",
              "  if (!files) {\n",
              "    return {\n",
              "      response: {\n",
              "        action: 'complete',\n",
              "      }\n",
              "    };\n",
              "  }\n",
              "\n",
              "  for (const file of files) {\n",
              "    const li = document.createElement('li');\n",
              "    li.append(span(file.name, {fontWeight: 'bold'}));\n",
              "    li.append(span(\n",
              "        `(${file.type || 'n/a'}) - ${file.size} bytes, ` +\n",
              "        `last modified: ${\n",
              "            file.lastModifiedDate ? file.lastModifiedDate.toLocaleDateString() :\n",
              "                                    'n/a'} - `));\n",
              "    const percent = span('0% done');\n",
              "    li.appendChild(percent);\n",
              "\n",
              "    outputElement.appendChild(li);\n",
              "\n",
              "    const fileDataPromise = new Promise((resolve) => {\n",
              "      const reader = new FileReader();\n",
              "      reader.onload = (e) => {\n",
              "        resolve(e.target.result);\n",
              "      };\n",
              "      reader.readAsArrayBuffer(file);\n",
              "    });\n",
              "    // Wait for the data to be ready.\n",
              "    let fileData = yield {\n",
              "      promise: fileDataPromise,\n",
              "      response: {\n",
              "        action: 'continue',\n",
              "      }\n",
              "    };\n",
              "\n",
              "    // Use a chunked sending to avoid message size limits. See b/62115660.\n",
              "    let position = 0;\n",
              "    do {\n",
              "      const length = Math.min(fileData.byteLength - position, MAX_PAYLOAD_SIZE);\n",
              "      const chunk = new Uint8Array(fileData, position, length);\n",
              "      position += length;\n",
              "\n",
              "      const base64 = btoa(String.fromCharCode.apply(null, chunk));\n",
              "      yield {\n",
              "        response: {\n",
              "          action: 'append',\n",
              "          file: file.name,\n",
              "          data: base64,\n",
              "        },\n",
              "      };\n",
              "\n",
              "      let percentDone = fileData.byteLength === 0 ?\n",
              "          100 :\n",
              "          Math.round((position / fileData.byteLength) * 100);\n",
              "      percent.textContent = `${percentDone}% done`;\n",
              "\n",
              "    } while (position < fileData.byteLength);\n",
              "  }\n",
              "\n",
              "  // All done.\n",
              "  yield {\n",
              "    response: {\n",
              "      action: 'complete',\n",
              "    }\n",
              "  };\n",
              "}\n",
              "\n",
              "scope.google = scope.google || {};\n",
              "scope.google.colab = scope.google.colab || {};\n",
              "scope.google.colab._files = {\n",
              "  _uploadFiles,\n",
              "  _uploadFilesContinue,\n",
              "};\n",
              "})(self);\n",
              "</script> "
            ],
            "text/plain": [
              "<IPython.core.display.HTML object>"
            ]
          },
          "metadata": {},
          "output_type": "display_data"
        }
      ],
      "source": [
        "# Upload short mp3\n",
        "from google.colab import files\n",
        "upload_files = files.upload()"
      ]
    },
    {
      "cell_type": "code",
      "source": [
        "!pip install faster_whisper\n",
        "!pip install srt\n",
        "!pip install budoux\n",
        "!apt install -y fonts-takao\n",
        "!cp *.ttf \"/usr/share/fonts/truetype/\"\n",
        "!fc-cache -fv\n",
        "!apt install libcublas11"
      ],
      "metadata": {
        "id": "zRqRMxmxW4e7"
      },
      "execution_count": null,
      "outputs": []
    },
    {
      "cell_type": "code",
      "source": [
        "# Add line breaks to subtitles\n",
        "def combine_text_until_max_length(data, max_length):\n",
        "    if not data:\n",
        "        return []\n",
        "\n",
        "    combined_text = \"\"\n",
        "    current_string = \"\"\n",
        "\n",
        "    for item in data:\n",
        "        if len(current_string + item) <= max_length:\n",
        "            current_string += item\n",
        "        else:\n",
        "            combined_text += current_string + \"\\n\"\n",
        "            current_string = item\n",
        "\n",
        "    if current_string:\n",
        "        combined_text += current_string + \"\\n\"\n",
        "\n",
        "    return combined_text"
      ],
      "metadata": {
        "id": "dYpbW-kxXwkK"
      },
      "execution_count": null,
      "outputs": []
    },
    {
      "cell_type": "code",
      "source": [
        "# Transcribe and create .srt subtitle file\n",
        "import budoux\n",
        "from faster_whisper import WhisperModel\n",
        "from datetime import timedelta\n",
        "from srt import Subtitle\n",
        "import srt\n",
        "import glob\n",
        "\n",
        "files = glob.glob(r\"*.mp3\", recursive=True)\n",
        "file_name = files[0].rstrip(\".mp3\")\n",
        "file_path = file_name + \".mp3\"\n",
        "image_files = glob.glob(r\"*.png\", recursive=True)\n",
        "image_file = image_files[0]\n",
        "model_size = \"large-v3\"\n",
        "\n",
        "model = WhisperModel(model_size, device=\"cuda\", compute_type=\"float16\")\n",
        "segments, info = model.transcribe(file_path, beam_size=10)\n",
        "print(\"Detected language '%s' with probability %f\" % (info.language, info.language_probability))\n",
        "\n",
        "parser = budoux.load_default_japanese_parser()\n",
        "\n",
        "subs = []\n",
        "for segment in segments:\n",
        "  print(\"[%.2fs -> %.2fs] %s\" % (segment.start, segment.end, segment.text))\n",
        "  index = int(segment.id) + 1\n",
        "  start = segment.start\n",
        "  end = segment.end\n",
        "  segment_text = segment.text.replace(\"、\", \" \")\n",
        "  segment_text = segment_text.replace(\"。\", \"\")\n",
        "  word_list = parser.parse(segment_text)\n",
        "  text = combine_text_until_max_length(word_list, 25)\n",
        "  sub = Subtitle(index=1, start=timedelta(seconds=timedelta(seconds=start).seconds,\n",
        "                                          microseconds=timedelta(seconds=start).microseconds),\n",
        "                                          end=timedelta(seconds=timedelta(seconds=end).seconds,\n",
        "                                          microseconds=timedelta(seconds=end).microseconds), content=text, proprietary='')\n",
        "  subs.append(sub)\n",
        "\n",
        "with open(file_name + \".srt\", mode=\"w\", encoding=\"utf-8\") as f:\n",
        "    f.write(srt.compose(subs))"
      ],
      "metadata": {
        "id": "3KhqYfZBYKWS"
      },
      "execution_count": null,
      "outputs": []
    },
    {
      "cell_type": "code",
      "source": [
        "# Create embedded subtitle file .ass\n",
        "!ffmpeg -i $file_name\".srt\" $file_name\".ass\""
      ],
      "metadata": {
        "id": "W6gHY6kwYzYk"
      },
      "execution_count": null,
      "outputs": []
    },
    {
      "cell_type": "code",
      "source": [
        "# Create a single picture video file .mp4 without subtitles\n",
        "!ffmpeg \\\n",
        "    -loop 1 \\\n",
        "    -r 30000/1001 \\\n",
        "    -i $image_file -i $file_name\".mp3\" \\\n",
        "    -vcodec libx264 \\\n",
        "    -acodec aac -strict experimental -ab 320k -ac 2 -ar 48000 \\\n",
        "    -pix_fmt yuv420p \\\n",
        "    -shortest \\\n",
        "    $file_name\".mp4\""
      ],
      "metadata": {
        "id": "iI1BlmWPa2Et"
      },
      "execution_count": null,
      "outputs": []
    },
    {
      "cell_type": "code",
      "source": [
        "# Create a short video file .mp4 with subtitles\n",
        "!ffmpeg \\\n",
        "    -i $file_name\".mp4\" \\\n",
        "    -vf \"subtitles=$file_name'.ass':'force_style=FontName=TakaoPGothic,Fontsize=22,Bold=3,PrimaryColour=&H00CAF8F9,SecondaryColour=&H00FFFFFF,OutlineColour=&H00313131,Outline=2'\" \\\n",
        "    $file_name\"_subtitles.mp4\""
      ],
      "metadata": {
        "id": "CCCptwd3bMGO"
      },
      "execution_count": null,
      "outputs": []
    },
    {
      "cell_type": "code",
      "source": [
        "from google.colab import files\n",
        "download_files = files.download(file_name + \"_subtitles.mp4\")"
      ],
      "metadata": {
        "id": "5ST5Y4oqcHqL"
      },
      "execution_count": null,
      "outputs": []
    },
    {
      "cell_type": "code",
      "source": [],
      "metadata": {
        "id": "7opRlfCDdCU4"
      },
      "execution_count": null,
      "outputs": []
    }
  ]
}